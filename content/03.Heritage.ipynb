{
 "cells": [
  {
   "cell_type": "markdown",
   "metadata": {},
   "source": [
    "# L'héritage en python #"
   ]
  },
  {
   "cell_type": "markdown",
   "metadata": {},
   "source": [
    "Repartons de notre classe User :"
   ]
  },
  {
   "cell_type": "code",
   "execution_count": null,
   "metadata": {},
   "outputs": [],
   "source": [
    "from hashlib import blake2b\n",
    "import os\n",
    "\n",
    "class User:\n",
    "    \"\"\" Example de champs \n",
    "    __init__ est le constructeur, id, name, __salt, __password des champs \"\"\"\n",
    "    def __init__(self, id, name, password) -> None :\n",
    "        self.id = id\n",
    "        self.name = name\n",
    "        self.__salt = os.urandom(blake2b.SALT_SIZE)\n",
    "        self.__password = self.__crypt_pwd(password)\n",
    "\n",
    "    def __crypt_pwd(self, password):\n",
    "        h1 = blake2b(salt=self.__salt)\n",
    "        return h1.update(password.encode(encoding = 'UTF-8'))\n",
    "    \n",
    "    def check_pwd(self, password):\n",
    "        return self.__password == self.__crypt_pwd(password)"
   ]
  },
  {
   "cell_type": "markdown",
   "metadata": {},
   "source": [
    "Définissons une classe Admin qui héritera de User :"
   ]
  },
  {
   "cell_type": "code",
   "execution_count": null,
   "metadata": {},
   "outputs": [],
   "source": [
    "class Admin(User):\n",
    "    def manage(self):\n",
    "        print('I am a Super administrator!')"
   ]
  },
  {
   "cell_type": "code",
   "execution_count": null,
   "metadata": {},
   "outputs": [],
   "source": [
    "root = Admin(1, 'root', 'toor')\n",
    "root.check_pwd('toor')"
   ]
  },
  {
   "cell_type": "code",
   "execution_count": null,
   "metadata": {},
   "outputs": [],
   "source": [
    "root.manage()"
   ]
  },
  {
   "cell_type": "markdown",
   "metadata": {},
   "source": [
    "Nous pouvons avoir deux classes différentes héritant d’une même mère"
   ]
  },
  {
   "cell_type": "code",
   "execution_count": null,
   "metadata": {},
   "outputs": [],
   "source": [
    "class Guest(User):\n",
    "    def __init__(self, id, name):\n",
    "        super().__init__(id, name, '')\n",
    "\n",
    "    def check_pwd(self, password):\n",
    "        return True"
   ]
  },
  {
   "cell_type": "code",
   "execution_count": null,
   "metadata": {},
   "outputs": [],
   "source": [
    "guest = Guest(3, 'Guest')\n",
    "guest.check_pwd('password')"
   ]
  },
  {
   "cell_type": "markdown",
   "metadata": {},
   "source": [
    "En Python, la fonction isinstance permet de tester si un objet est l’instance d’une certaine classe."
   ]
  },
  {
   "cell_type": "code",
   "execution_count": null,
   "metadata": {},
   "outputs": [],
   "source": [
    "isinstance(root, Admin)"
   ]
  },
  {
   "cell_type": "code",
   "execution_count": null,
   "metadata": {},
   "outputs": [],
   "source": [
    "isinstance(root, User)"
   ]
  },
  {
   "cell_type": "markdown",
   "metadata": {},
   "source": [
    "Reprenons notre pseudo-forum :"
   ]
  },
  {
   "cell_type": "code",
   "execution_count": null,
   "metadata": {},
   "outputs": [],
   "source": [
    "import os\n",
    "import datetime\n",
    "from hashlib import blake2b\n",
    "\n",
    "class User:\n",
    "    \"\"\" Example de champs \n",
    "    __init__ est le constructeur, id, name, __salt, __password des champs \"\"\"\n",
    "    def __init__(self, id, name, password) -> None :\n",
    "        self.id = id\n",
    "        self.name = name\n",
    "        self.__salt = os.urandom(blake2b.SALT_SIZE)\n",
    "        self.__password = self.__crypt_pwd(password)\n",
    "\n",
    "    def __crypt_pwd(self, password):\n",
    "        h1 = blake2b(salt=self.__salt)\n",
    "        return h1.update(password.encode(encoding = 'UTF-8'))\n",
    "    \n",
    "    def check_pwd(self, password):\n",
    "        return self.__password == self.__crypt_pwd(password)\n",
    "\n",
    "    def new_thread(self, title, message):\n",
    "        return Thread(title, self, message)\n",
    "\n",
    "    def answer_thread(self, thread, message):\n",
    "        thread.answer(self, message)\n",
    "\n",
    "class Post:\n",
    "    def __init__(self, author, message):\n",
    "        self.author = author\n",
    "        self.message = message\n",
    "        self.date = datetime.datetime.now()\n",
    "\n",
    "    def format(self):\n",
    "        date = self.date.strftime('le %d/%m/%Y à %H:%M:%S')\n",
    "        return '<div><span>Par {} {}</span><p>{}</p></div>'.format(self.author.name, date, self.message)\n",
    "\n",
    "class Thread(Post):\n",
    "    def __init__(self, title, author, message):\n",
    "        super().__init__(author, message)\n",
    "        self.title = title\n",
    "        self.posts = []\n",
    "\n",
    "    def answer(self, author, message):\n",
    "        self.posts.append(Post(author, message))\n",
    "\n",
    "    def format(self):\n",
    "        posts = ['<div>' + self.title + '</div']\n",
    "        posts += [super().format()]\n",
    "        posts += [p.format() for p in self.posts]\n",
    "        return '\\n'.join(posts)\n",
    "\n",
    "if __name__ == '__main__':\n",
    "    john = User(1, 'john', '12345')\n",
    "    peter = User(2, 'peter', 'toto')\n",
    "    thread = john.new_thread('Bienvenue', 'Bienvenue à tous')\n",
    "    peter.answer_thread(thread, 'Merci')\n",
    "    pol = User(3,'pol','123')\n",
    "    pol.answer_thread(thread,'Merci John et Peter')\n",
    "    print(thread.format())"
   ]
  }
 ],
 "metadata": {
  "kernelspec": {
   "display_name": "Python 3.8.10 64-bit",
   "language": "python",
   "name": "python3"
  },
  "language_info": {
   "codemirror_mode": {
    "name": "ipython",
    "version": 3
   },
   "file_extension": ".py",
   "mimetype": "text/x-python",
   "name": "python",
   "nbconvert_exporter": "python",
   "pygments_lexer": "ipython3",
   "version": "3.8.10 (default, Nov 14 2022, 12:59:47) \n[GCC 9.4.0]"
  },
  "orig_nbformat": 4,
  "vscode": {
   "interpreter": {
    "hash": "e7370f93d1d0cde622a1f8e1c04877d8463912d04d973331ad4851f04de6915a"
   }
  }
 },
 "nbformat": 4,
 "nbformat_minor": 2
}
