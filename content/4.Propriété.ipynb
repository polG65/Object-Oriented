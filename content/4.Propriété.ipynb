{
 "cells": [
  {
   "attachments": {},
   "cell_type": "markdown",
   "metadata": {},
   "source": [
    "# La notion de propriété en Python Orienté Objet #"
   ]
  },
  {
   "attachments": {},
   "cell_type": "markdown",
   "metadata": {},
   "source": [
    "En Python orienté objet, une propriété est une méthode spéciale qui permet d'accéder ou de modifier une variable de classe de manière contrôlée. En utilisant des propriétés, vous pouvez écrire du code qui ressemble à un accès direct aux variables de classe, mais qui en réalité exécute des actions supplémentaires, comme des vérifications de contrôle d'accès ou des mises à jour de données en arrière-plan.\n",
    "\n",
    "Voici un exemple simple de définition d'une propriété en Python:\n",
    "\n"
   ]
  },
  {
   "cell_type": "code",
   "execution_count": null,
   "metadata": {},
   "outputs": [],
   "source": [
    "class NombrePositif:\n",
    "    def __init__(self):\n",
    "        self._value = 0\n",
    "\n",
    "    @property\n",
    "    def value(self):\n",
    "        return self._value\n",
    "\n",
    "    @value.setter\n",
    "    def value(self, newValue):\n",
    "        if (newValue >= 0) :\n",
    "            self._value = newValue\n",
    "        else:\n",
    "            print(\"Error %d n'est pas un nombre positif\" % newValue)\n"
   ]
  },
  {
   "attachments": {},
   "cell_type": "markdown",
   "metadata": {},
   "source": [
    "Dans cet exemple, la variable value est définie comme une propriété en utilisant le décorateur @property. Cela signifie que vous pouvez accéder à la valeur de value en utilisant la syntaxe de l'attribut, comme dans obj.value, mais en réalité, cela exécute la méthode value définie comme propriété. La méthode value définie comme propriété de lecture renvoie la valeur de la variable _value, qui est une variable de classe privée (pour être précis, _value est une variable \"protégée\", c'est-à-dire privée pour tout le monde sauf pour une classe qui hérite de NombrePositif qui, elle, aura accès à cette variable).\n",
    "\n",
    "Pour définir un ensemble de valeur pour la propriété value, vous pouvez utiliser le décorateur @value.setter. Cela définit une méthode qui sera exécutée lorsque vous utilisez la syntaxe d'affectation, comme dans obj.value = value. Dans cet exemple, la méthode définie par le décorateur @value.setter met à jour la valeur de la variable de classe _value avec la valeur donnée.\n",
    "\n",
    "En utilisant des propriétés, vous pouvez contrôler l'accès et la modification des variables de classe de manière centralisée et facilement modifiable. Par exemple, vous pouvez ajouter des vérifications de contrôle d'accès ou des mises à jour de données en arrière-plan dans la méthode définie par le décorateur @value.setter, sans avoir à modifier le code qui utilise la propriété."
   ]
  },
  {
   "cell_type": "code",
   "execution_count": null,
   "metadata": {},
   "outputs": [],
   "source": [
    "monNombre = NombrePositif()\n",
    "monNombre.value = 2\n",
    "\n",
    "print(monNombre.value)\n",
    "\n",
    "monNombre.value -= 10\n",
    "\n",
    "print(monNombre.value)"
   ]
  }
 ],
 "metadata": {
  "kernelspec": {
   "display_name": "Python 3",
   "language": "python",
   "name": "python3"
  },
  "language_info": {
   "codemirror_mode": {
    "name": "ipython",
    "version": 3
   },
   "file_extension": ".py",
   "mimetype": "text/x-python",
   "name": "python",
   "nbconvert_exporter": "python",
   "pygments_lexer": "ipython3",
   "version": "3.8.10"
  },
  "orig_nbformat": 4,
  "vscode": {
   "interpreter": {
    "hash": "e7370f93d1d0cde622a1f8e1c04877d8463912d04d973331ad4851f04de6915a"
   }
  }
 },
 "nbformat": 4,
 "nbformat_minor": 2
}
