{
 "cells": [
  {
   "cell_type": "markdown",
   "id": "8927fdbf-1a2a-49f9-83f3-1665f1351518",
   "metadata": {},
   "source": [
    "# Introduction"
   ]
  },
  {
   "cell_type": "markdown",
   "id": "e9632fd7-299f-434b-9614-f13b4871dc5c",
   "metadata": {},
   "source": [
    "**Références** :\n",
    "    https://docs.python.org/fr/3/index.html"
   ]
  },
  {
   "cell_type": "markdown",
   "id": "28b7c000-b06d-48a4-a6ce-8679126db291",
   "metadata": {},
   "source": [
    "Une premiere classe "
   ]
  },
  {
   "cell_type": "code",
   "execution_count": 3,
   "id": "b9653fa3-4db9-4b16-9548-097846124e0e",
   "metadata": {},
   "outputs": [],
   "source": [
    "class MyClass:\n",
    "    \"\"\"A simple example class\"\"\"\n",
    "    i = 12345\n",
    "\n",
    "    def f(self):\n",
    "        return 'hello world'"
   ]
  },
  {
   "cell_type": "code",
   "execution_count": 4,
   "id": "d7859018-ffe6-4eb6-8960-9cb45113d1c0",
   "metadata": {},
   "outputs": [],
   "source": [
    "x = MyClass()"
   ]
  },
  {
   "cell_type": "code",
   "execution_count": 5,
   "id": "e8e54691-561a-457a-87dc-a240246a0b0a",
   "metadata": {},
   "outputs": [
    {
     "data": {
      "text/plain": [
       "'hello world'"
      ]
     },
     "execution_count": 5,
     "metadata": {},
     "output_type": "execute_result"
    }
   ],
   "source": [
    "x.f()"
   ]
  },
  {
   "cell_type": "code",
   "execution_count": 6,
   "id": "61dc99c5-cb6d-4b70-bbe6-eadc98277636",
   "metadata": {},
   "outputs": [
    {
     "data": {
      "text/plain": [
       "'hello world'"
      ]
     },
     "execution_count": 6,
     "metadata": {},
     "output_type": "execute_result"
    }
   ],
   "source": [
    "MyClass.f(x)"
   ]
  },
  {
   "cell_type": "code",
   "execution_count": null,
   "id": "16e17262-2350-43bd-9645-6e75b7702913",
   "metadata": {},
   "outputs": [],
   "source": []
  }
 ],
 "metadata": {
  "kernelspec": {
   "display_name": "Python 3 (ipykernel)",
   "language": "python",
   "name": "python3"
  },
  "language_info": {
   "codemirror_mode": {
    "name": "ipython",
    "version": 3
   },
   "file_extension": ".py",
   "mimetype": "text/x-python",
   "name": "python",
   "nbconvert_exporter": "python",
   "pygments_lexer": "ipython3",
   "version": "3.8.10"
  },
  "toc-autonumbering": true,
  "toc-showmarkdowntxt": true
 },
 "nbformat": 4,
 "nbformat_minor": 5
}
