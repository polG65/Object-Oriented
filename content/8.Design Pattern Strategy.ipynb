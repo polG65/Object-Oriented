{
 "cells": [
  {
   "attachments": {},
   "cell_type": "markdown",
   "metadata": {},
   "source": [
    "# Les design Pattern #"
   ]
  },
  {
   "attachments": {},
   "cell_type": "markdown",
   "metadata": {},
   "source": [
    "Reprenons l'exemple précédant avec notre enumération de tri.\n",
    "Cet exemple peut fournir une bonne introduction aux concept de Design Pattern.\n",
    "https://refactoring.guru/design-patterns"
   ]
  },
  {
   "attachments": {},
   "cell_type": "markdown",
   "metadata": {},
   "source": [
    "Le design pattern Strategy:\n",
    "https://refactoring.guru/design-patterns/strategy\n",
    "\n",
    "Implémentation traditionnelle en Python : \n",
    "https://refactoring.guru/design-patterns/strategy/python/example#example-0\n",
    "\n",
    "Réajustons notre code pour réaliser de design pattern Strategy:"
   ]
  },
  {
   "cell_type": "code",
   "execution_count": null,
   "metadata": {},
   "outputs": [],
   "source": [
    "from enum import Enum\n",
    "\n",
    "class Strategy(Enum):\n",
    "    ASCENDING = 1\n",
    "    DESCENDING = 2\n",
    "\n",
    "    def __call__(self, values):\n",
    "        return sorted(values, reverse=self is Strategy.DESCENDING)\n",
    "\n",
    "class Context:\n",
    "    def __init__(self) -> None:\n",
    "        self._strategy = Strategy.ASCENDING\n",
    "\n",
    "    @property\n",
    "    def strategy(self) -> Strategy:\n",
    "        return self._strategy\n",
    "\n",
    "    @strategy.setter\n",
    "    def strategy(self, value : Strategy):\n",
    "        self._strategy = value\n",
    "\n",
    "    def do_some_business_logic(self):\n",
    "        print(\"Context: Sorting data using the strategy (not sure how it'll do it)\")\n",
    "        result = self._strategy([\"a\", \"b\", \"c\", \"d\", \"e\"])\n",
    "        print(\",\".join(result))\n",
    "\n",
    "if __name__ == \"__main__\":\n",
    "    # The client code picks a concrete strategy and passes it to the context.\n",
    "    # The client should be aware of the differences between strategies in order\n",
    "    # to make the right choice.\n",
    "\n",
    "    context = Context()\n",
    "    print(\"Client: Strategy is set to normal sorting.\")\n",
    "    context.do_some_business_logic()\n",
    "    print()\n",
    "\n",
    "    print(\"Client: Strategy is set to reverse sorting.\")\n",
    "    context.strategy = Strategy.DESCENDING\n",
    "    context.do_some_business_logic()"
   ]
  },
  {
   "attachments": {},
   "cell_type": "markdown",
   "metadata": {},
   "source": [
    "On peut encore notter que le pattern strategy peut aussi être implémenté par une fonction lambda"
   ]
  },
  {
   "cell_type": "code",
   "execution_count": null,
   "metadata": {},
   "outputs": [],
   "source": [
    "class Context:\n",
    "    def __init__(self) -> None:\n",
    "        self._strategy = None\n",
    "\n",
    "    @property\n",
    "    def strategy(self) -> Strategy:\n",
    "        return self._strategy\n",
    "\n",
    "    @strategy.setter\n",
    "    def strategy(self, value):\n",
    "        self._strategy = value\n",
    "\n",
    "    def do_some_business_logic(self):\n",
    "        print(\"Context: Sorting data using the strategy (not sure how it'll do it)\")\n",
    "        if self.strategy != None:\n",
    "            result = self._strategy([\"a\", \"b\", \"c\", \"d\", \"e\"])\n",
    "            print(\",\".join(result))\n",
    "\n",
    "if __name__ == \"__main__\":\n",
    "    # The client code picks a concrete strategy and passes it to the context.\n",
    "    # The client should be aware of the differences between strategies in order\n",
    "    # to make the right choice.\n",
    "\n",
    "    context = Context()\n",
    "    context.do_some_business_logic()\n",
    "    print(\"oops aucune stratégie\")\n",
    "    print()\n",
    "\n",
    "    print(\"Client: Strategy is set to normal sorting.\")\n",
    "    context.strategy = lambda list : sorted(list)\n",
    "    context.do_some_business_logic()\n",
    "    print()\n",
    "\n",
    "    print(\"Client: Strategy is set to reverse sorting.\")\n",
    "    context.strategy = lambda list : sorted(list, reverse=True)\n",
    "    context.do_some_business_logic()"
   ]
  }
 ],
 "metadata": {
  "kernelspec": {
   "display_name": "Python 3",
   "language": "python",
   "name": "python3"
  },
  "language_info": {
   "codemirror_mode": {
    "name": "ipython",
    "version": 3
   },
   "file_extension": ".py",
   "mimetype": "text/x-python",
   "name": "python",
   "nbconvert_exporter": "python",
   "pygments_lexer": "ipython3",
   "version": "3.8.10 (default, Nov 14 2022, 12:59:47) \n[GCC 9.4.0]"
  },
  "orig_nbformat": 4,
  "vscode": {
   "interpreter": {
    "hash": "e7370f93d1d0cde622a1f8e1c04877d8463912d04d973331ad4851f04de6915a"
   }
  }
 },
 "nbformat": 4,
 "nbformat_minor": 2
}
