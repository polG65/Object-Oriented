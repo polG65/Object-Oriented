{
 "cells": [
  {
   "cell_type": "markdown",
   "metadata": {},
   "source": [
    "# Introduction # "
   ]
  },
  {
   "cell_type": "markdown",
   "metadata": {},
   "source": [
    "Pourquoi Python ?\n",
    "\n",
    "https://www.tiobe.com/tiobe-index/\n"
   ]
  },
  {
   "cell_type": "markdown",
   "metadata": {},
   "source": [
    "Installation de Python : \n",
    "\n",
    "https://docs.python.org/fr/3/using/index.html\n"
   ]
  },
  {
   "attachments": {},
   "cell_type": "markdown",
   "metadata": {},
   "source": [
    "Demandons à chatGPt une introduction à Python Orienté Objet :\n",
    "\n",
    "Moi : introduit la programmation orientée objet en python\n",
    "\n",
    "chatGPT : La programmation orientée objet (POO) est un paradigme de programmation qui consiste à structurer son code autour de \"objets\", c'est-à-dire de concepts représentant des entités du monde réel ou virtuel, et qui possèdent des propriétés (attributs) et des comportements (méthodes).\n",
    "\n",
    "En Python, tout est objet, y compris les types de base comme les nombres, les chaînes de caractères et les booléens. Cela signifie que vous pouvez utiliser la POO de manière intuitive et naturelle dans ce langage.\n",
    "\n",
    "Voici un exemple simple de création d'une classe (un modèle d'objet) et d'une instance (un objet concret créé à partir de cette classe) en Python :"
   ]
  },
  {
   "cell_type": "code",
   "execution_count": null,
   "metadata": {},
   "outputs": [],
   "source": [
    "class Point:\n",
    "    def __init__(self, x, y):\n",
    "        self.x = x\n",
    "        self.y = y\n",
    "\n",
    "point = Point(3, 4)\n",
    "print(point.x)  # Affiche 3\n",
    "print(point.y)  # Affiche 4\n"
   ]
  },
  {
   "attachments": {},
   "cell_type": "markdown",
   "metadata": {},
   "source": [
    "chatGPT: Ici, nous avons défini une classe Point qui possède deux attributs x et y, et nous avons créé une instance de cette classe en appelant Point(3, 4). Nous pouvons accéder aux valeurs de ces attributs en utilisant la notation ., comme point.x et point.y.\n",
    "\n",
    "Vous pouvez également définir des méthodes (des fonctions associées à une classe) pour décrire le comportement des objets de cette classe. Par exemple :"
   ]
  },
  {
   "cell_type": "code",
   "execution_count": null,
   "metadata": {},
   "outputs": [],
   "source": [
    "class Point:\n",
    "    def __init__(self, x, y):\n",
    "        self.x = x\n",
    "        self.y = y\n",
    "    \n",
    "    def distance(self, other):\n",
    "        return ((self.x - other.x) ** 2 + (self.y - other.y) ** 2) ** 0.5\n",
    "\n",
    "point1 = Point(3, 4)\n",
    "point2 = Point(6, 8)\n",
    "print(point1.distance(point2))  # Affiche 5.0\n"
   ]
  },
  {
   "attachments": {},
   "cell_type": "markdown",
   "metadata": {},
   "source": [
    "Ici, nous avons ajouté une méthode distance à la classe Point, qui calcule la distance euclidienne entre deux points. Nous pouvons appeler cette méthode sur un objet en utilisant la notation ., comme point1.distance(point2)."
   ]
  },
  {
   "cell_type": "markdown",
   "metadata": {},
   "source": [
    "## En python tout est objet ##"
   ]
  },
  {
   "cell_type": "code",
   "execution_count": null,
   "metadata": {},
   "outputs": [],
   "source": [
    "number = 5 # On instancie une variable `number` de type `int`\n",
    "number.numerator # `numerator` est un attribut de `number`"
   ]
  },
  {
   "cell_type": "code",
   "execution_count": null,
   "metadata": {},
   "outputs": [],
   "source": [
    "values = [] # Variable `values` de type `list`\n",
    "values.append(number) # `append` est une méthode de `values`\n",
    "values"
   ]
  },
  {
   "cell_type": "code",
   "execution_count": null,
   "metadata": {},
   "outputs": [],
   "source": [
    "txt = \"hello\" # Variable txt de type 'str'\n",
    "txt.capitalize() #'capitalize' est une méthode de `txt`"
   ]
  },
  {
   "cell_type": "markdown",
   "metadata": {},
   "source": [
    "Plus d'information sur les structures de données en Python :\n",
    "\n",
    "https://docs.python.org/fr/3/tutorial/datastructures.html#\n",
    "\n",
    "https://zestedesavoir.com/tutoriels/2514/un-zeste-de-python/4-types/1-types-precedents/\n",
    "\n"
   ]
  }
 ],
 "metadata": {
  "kernelspec": {
   "display_name": "Python 3.8.10 64-bit",
   "language": "python",
   "name": "python3"
  },
  "language_info": {
   "codemirror_mode": {
    "name": "ipython",
    "version": 3
   },
   "file_extension": ".py",
   "mimetype": "text/x-python",
   "name": "python",
   "nbconvert_exporter": "python",
   "pygments_lexer": "ipython3",
   "version": "3.8.10"
  },
  "orig_nbformat": 4,
  "vscode": {
   "interpreter": {
    "hash": "e7370f93d1d0cde622a1f8e1c04877d8463912d04d973331ad4851f04de6915a"
   }
  }
 },
 "nbformat": 4,
 "nbformat_minor": 2
}
