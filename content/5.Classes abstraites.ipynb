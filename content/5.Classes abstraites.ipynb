{
 "cells": [
  {
   "attachments": {},
   "cell_type": "markdown",
   "metadata": {},
   "source": [
    "# Utilisation des classes abstraites en python #"
   ]
  },
  {
   "attachments": {},
   "cell_type": "markdown",
   "metadata": {},
   "source": [
    "Les classes abstraites sont un concept de programmation orientée objet qui permet de définir une structure de classe générale qui peut être utilisée comme modèle pour d'autres classes plus spécifiques. Elles ne peuvent pas être instanciées directement et nécessitent une classe dérivée pour être utilisées.\n",
    "\n",
    "Voici comment vous pouvez utiliser des classes abstraites en Python :\n",
    "\n",
    "1. Utilisez le module abc (abstract base classes) de Python pour définir une classe abstraite. Vous pouvez le faire en utilisant la décorateur @abc.abstractmethod sur une méthode de la classe qui doit être implémentée par les classes dérivées :"
   ]
  },
  {
   "cell_type": "code",
   "execution_count": 1,
   "metadata": {},
   "outputs": [],
   "source": [
    "import abc\n",
    "\n",
    "class Animal(abc.ABC):\n",
    "    def __init__(self, name):\n",
    "        self.name = name\n",
    "\n",
    "    @abc.abstractmethod\n",
    "    def make_sound(self):\n",
    "        pass\n"
   ]
  },
  {
   "attachments": {},
   "cell_type": "markdown",
   "metadata": {},
   "source": [
    "2. Définissez une classe dérivée qui hérite de la classe abstraite et implémente toutes les méthodes abstraites :"
   ]
  },
  {
   "cell_type": "code",
   "execution_count": 2,
   "metadata": {},
   "outputs": [
    {
     "name": "stdout",
     "output_type": "stream",
     "text": [
      "Woof!\n"
     ]
    }
   ],
   "source": [
    "class Dog(Animal):\n",
    "    def make_sound(self):\n",
    "        print(\"Woof!\")\n",
    "\n",
    "dog = Dog(\"Fido\")\n",
    "dog.make_sound()  # Affiche \"Woof!\"\n"
   ]
  },
  {
   "attachments": {},
   "cell_type": "markdown",
   "metadata": {},
   "source": [
    "# Utilisation des interfaces en python #"
   ]
  },
  {
   "attachments": {},
   "cell_type": "markdown",
   "metadata": {},
   "source": [
    "Les interfaces en Python sont utilisées pour spécifier un comportement attendu d'une classe. Elles sont définies en utilisant la syntaxe de la classe abstraite et ne contiennent que des méthodes sans implémentation.\n",
    "Elles sont similaires aux interfaces en Java ou en C#.\n",
    "\n",
    "Voici un exemple d'une interface en Python :"
   ]
  },
  {
   "cell_type": "code",
   "execution_count": 18,
   "metadata": {},
   "outputs": [],
   "source": [
    "from abc import ABC, abstractmethod\n",
    "\n",
    "class Spkeakable(ABC):\n",
    "    @abstractmethod\n",
    "    def speak(self):\n",
    "        pass\n",
    "\n",
    "class Dog(Spkeakable):\n",
    "    def speak(self):\n",
    "        print(\"Woof!\")\n",
    "\n",
    "class Cat(Spkeakable):\n",
    "    def speak(self):\n",
    "        print(\"Meow!\")\n"
   ]
  },
  {
   "attachments": {},
   "cell_type": "markdown",
   "metadata": {},
   "source": [
    "Dans cet exemple, l'interface Spkeakable spécifie que toute classe qui implémente cette interface doit définir une méthode speak(). Les classes Dog et Cat implémentent cette interface en définissant une implémentation de la méthode speak().\n",
    "\n",
    "Les interfaces en Python sont utiles pour s'assurer que les classes qui implémentent l'interface respectent un comportement spécifique et peuvent être utilisées dans le cadre de la programmation orientée objet pour assurer la compatibilité des différentes classes entre elles."
   ]
  },
  {
   "cell_type": "code",
   "execution_count": 19,
   "metadata": {},
   "outputs": [
    {
     "name": "stdout",
     "output_type": "stream",
     "text": [
      "Meow!\n"
     ]
    }
   ],
   "source": [
    "eric = Cat()\n",
    "eric.speak()"
   ]
  }
 ],
 "metadata": {
  "kernelspec": {
   "display_name": "Python 3",
   "language": "python",
   "name": "python3"
  },
  "language_info": {
   "codemirror_mode": {
    "name": "ipython",
    "version": 3
   },
   "file_extension": ".py",
   "mimetype": "text/x-python",
   "name": "python",
   "nbconvert_exporter": "python",
   "pygments_lexer": "ipython3",
   "version": "3.8.10"
  },
  "orig_nbformat": 4,
  "vscode": {
   "interpreter": {
    "hash": "e7370f93d1d0cde622a1f8e1c04877d8463912d04d973331ad4851f04de6915a"
   }
  }
 },
 "nbformat": 4,
 "nbformat_minor": 2
}
