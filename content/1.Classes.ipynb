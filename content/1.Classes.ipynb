{
 "cells": [
  {
   "cell_type": "markdown",
   "id": "8927fdbf-1a2a-49f9-83f3-1665f1351518",
   "metadata": {},
   "source": [
    "# Introduction"
   ]
  },
  {
   "cell_type": "markdown",
   "id": "e9632fd7-299f-434b-9614-f13b4871dc5c",
   "metadata": {},
   "source": [
    "**Références** :\n",
    "    https://docs.python.org/fr/3/index.html"
   ]
  },
  {
   "cell_type": "markdown",
   "id": "28b7c000-b06d-48a4-a6ce-8679126db291",
   "metadata": {},
   "source": [
    "Une premiere classe "
   ]
  },
  {
   "cell_type": "code",
   "execution_count": 6,
   "id": "b9653fa3-4db9-4b16-9548-097846124e0e",
   "metadata": {},
   "outputs": [],
   "source": [
    "class MyClass:\n",
    "    \"\"\"A simple example class\"\"\"\n",
    "    i = 12345\n",
    "\n",
    "    def f(self):\n",
    "        return 'hello world'"
   ]
  },
  {
   "cell_type": "markdown",
   "id": "22385978",
   "metadata": {},
   "source": [
    "Créons une première instance, l'objet x de type MyClass:"
   ]
  },
  {
   "cell_type": "code",
   "execution_count": 7,
   "id": "d7859018-ffe6-4eb6-8960-9cb45113d1c0",
   "metadata": {},
   "outputs": [],
   "source": [
    "x = MyClass()"
   ]
  },
  {
   "cell_type": "markdown",
   "id": "37ffdab8",
   "metadata": {},
   "source": [
    "Nous pouvons appeler la méthode f() sur l'objet x :"
   ]
  },
  {
   "cell_type": "code",
   "execution_count": 8,
   "id": "e8e54691-561a-457a-87dc-a240246a0b0a",
   "metadata": {},
   "outputs": [
    {
     "data": {
      "text/plain": [
       "'hello world'"
      ]
     },
     "execution_count": 8,
     "metadata": {},
     "output_type": "execute_result"
    }
   ],
   "source": [
    "x.f()"
   ]
  },
  {
   "cell_type": "markdown",
   "id": "50bcbc63",
   "metadata": {},
   "source": [
    "L'écriture x.f() est l'écriture traditionelle en orienté objet mais en réalité, on appelle la fonction f de la classe MyClass et on lui donne le paramètre x, c'est-à-dire les données stockées dans la variable x :"
   ]
  },
  {
   "cell_type": "code",
   "execution_count": 9,
   "id": "61dc99c5-cb6d-4b70-bbe6-eadc98277636",
   "metadata": {},
   "outputs": [
    {
     "data": {
      "text/plain": [
       "'hello world'"
      ]
     },
     "execution_count": 9,
     "metadata": {},
     "output_type": "execute_result"
    }
   ],
   "source": [
    "MyClass.f(x)"
   ]
  },
  {
   "cell_type": "code",
   "execution_count": null,
   "id": "16e17262-2350-43bd-9645-6e75b7702913",
   "metadata": {},
   "outputs": [],
   "source": []
  }
 ],
 "metadata": {
  "kernelspec": {
   "display_name": "Python 3.8.10 64-bit",
   "language": "python",
   "name": "python3"
  },
  "language_info": {
   "codemirror_mode": {
    "name": "ipython",
    "version": 3
   },
   "file_extension": ".py",
   "mimetype": "text/x-python",
   "name": "python",
   "nbconvert_exporter": "python",
   "pygments_lexer": "ipython3",
   "version": "3.8.10"
  },
  "toc-autonumbering": true,
  "toc-showmarkdowntxt": true,
  "vscode": {
   "interpreter": {
    "hash": "e7370f93d1d0cde622a1f8e1c04877d8463912d04d973331ad4851f04de6915a"
   }
  }
 },
 "nbformat": 4,
 "nbformat_minor": 5
}
