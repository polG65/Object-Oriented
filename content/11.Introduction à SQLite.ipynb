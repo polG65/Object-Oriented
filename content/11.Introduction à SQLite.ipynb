{
 "cells": [
  {
   "attachments": {},
   "cell_type": "markdown",
   "metadata": {},
   "source": [
    "# introduction à SQLite #"
   ]
  },
  {
   "attachments": {},
   "cell_type": "markdown",
   "metadata": {},
   "source": [
    "SQLite est une base de données relationnelle légère qui peut être facilement intégrée dans des applications. En utilisant Python et SQLite ensemble, vous pouvez stocker, interroger et récupérer des données de manière efficace et organisée.\n",
    "\n",
    "Réf : https://docs.python.org/3/library/sqlite3.html\n",
    "\n",
    "Pour utiliser SQLite dans Python, vous devez d'abord installer la bibliothèque SQLite. Cela peut être fait en exécutant la commande suivante dans votre terminal ou votre invite de commande :"
   ]
  },
  {
   "cell_type": "code",
   "execution_count": null,
   "metadata": {},
   "outputs": [],
   "source": [
    "pip install sqlite3"
   ]
  },
  {
   "attachments": {},
   "cell_type": "markdown",
   "metadata": {},
   "source": [
    "Ensuite, vous devez créer une connexion à la base de données SQLite en utilisant la classe \"sqlite3.Connection\". Voici un exemple de code pour créer une connexion à une base de données SQLite :"
   ]
  },
  {
   "cell_type": "code",
   "execution_count": 22,
   "metadata": {},
   "outputs": [],
   "source": [
    "import sqlite3\n",
    "\n",
    "# Create a connection to the SQLite database\n",
    "conn = sqlite3.connect('example.db')\n"
   ]
  },
  {
   "attachments": {},
   "cell_type": "markdown",
   "metadata": {},
   "source": [
    "Dans cet exemple, nous avons créé une connexion à une base de données SQLite appelée \"example.db\". Si la base de données n'existe pas déjà, elle sera créée automatiquement.\n",
    "\n",
    "Une fois que vous avez créé une connexion, vous pouvez créer une table dans la base de données en utilisant la méthode \"execute()\" de l'objet \"sqlite3.Connection\". Voici un exemple de code pour créer une table \"users\" dans la base de données :"
   ]
  },
  {
   "cell_type": "code",
   "execution_count": 23,
   "metadata": {},
   "outputs": [
    {
     "data": {
      "text/plain": [
       "<sqlite3.Cursor at 0x7fc78403be30>"
      ]
     },
     "execution_count": 23,
     "metadata": {},
     "output_type": "execute_result"
    }
   ],
   "source": [
    "# Create a table\n",
    "conn.execute('CREATE TABLE users (id INTEGER PRIMARY KEY, name TEXT, age INTEGER)')\n"
   ]
  },
  {
   "attachments": {},
   "cell_type": "markdown",
   "metadata": {},
   "source": [
    "Dans cet exemple, nous avons créé une table \"users\" avec trois colonnes : \"id\", \"name\" et \"age\". La colonne \"id\" est définie comme la clé primaire de la table.\n",
    "\n",
    "Maintenant que nous avons créé une table, nous pouvons ajouter des données à la table en utilisant la méthode \"execute()\" de l'objet \"sqlite3.Connection\". Voici un exemple de code pour ajouter un utilisateur à la table :"
   ]
  },
  {
   "cell_type": "code",
   "execution_count": 24,
   "metadata": {},
   "outputs": [
    {
     "data": {
      "text/plain": [
       "<sqlite3.Cursor at 0x7fc78403bd50>"
      ]
     },
     "execution_count": 24,
     "metadata": {},
     "output_type": "execute_result"
    }
   ],
   "source": [
    "# Insert a user into the table\n",
    "conn.execute('INSERT INTO users (name, age) VALUES (?, ?)', ('John Doe', 30))\n"
   ]
  },
  {
   "attachments": {},
   "cell_type": "markdown",
   "metadata": {},
   "source": [
    "Dans cet exemple, nous avons inséré un utilisateur nommé \"John Doe\" avec un âge de 30 ans dans la table \"users\".\n",
    "\n",
    "Pour récupérer des données de la base de données, vous pouvez utiliser la méthode \"execute()\" de l'objet \"sqlite3.Connection\" avec une instruction SELECT. Voici un exemple de code pour récupérer tous les utilisateurs de la table :"
   ]
  },
  {
   "cell_type": "code",
   "execution_count": 25,
   "metadata": {},
   "outputs": [
    {
     "name": "stdout",
     "output_type": "stream",
     "text": [
      "(1, 'John Doe', 30)\n"
     ]
    }
   ],
   "source": [
    "# Retrieve all users from the table\n",
    "cursor = conn.execute('SELECT * FROM users')\n",
    "\n",
    "# Loop through the results and print them out\n",
    "for row in cursor:\n",
    "    print(row)\n"
   ]
  },
  {
   "attachments": {},
   "cell_type": "markdown",
   "metadata": {},
   "source": [
    "Dans cet exemple, nous avons exécuté une instruction SELECT pour récupérer tous les utilisateurs de la table. Nous avons ensuite parcouru les résultats à l'aide d'une boucle et les avons affichés à l'écran.\n",
    "\n",
    "Il est également possible de travailler directement sur le cursor créé précédemment:"
   ]
  },
  {
   "cell_type": "code",
   "execution_count": 26,
   "metadata": {},
   "outputs": [
    {
     "name": "stdout",
     "output_type": "stream",
     "text": [
      "Nom : Eric Bosly ; age : 77\n",
      "Nom : John Doe ; age : 30\n",
      "Nom : Pol Godelaine ; age : 25\n"
     ]
    }
   ],
   "source": [
    "cursor.execute(\"\"\"\n",
    "                INSERT INTO users (name, age) VALUES\n",
    "                ('Eric Bosly', 77),\n",
    "                ('Pol Godelaine', 25)\n",
    "                \"\"\")\n",
    "\n",
    "res = cursor.execute('SELECT name, age FROM users ORDER BY age DESC')\n",
    "for name, age in res:\n",
    "    print (f'Nom : {name} ; age : {age}')"
   ]
  },
  {
   "attachments": {},
   "cell_type": "markdown",
   "metadata": {},
   "source": [
    "Enfin, n'oubliez pas de fermer la connexion à la base de données en appelant la méthode \"close()\" de l'objet \"sqlite3.Connection\" :"
   ]
  },
  {
   "cell_type": "code",
   "execution_count": 27,
   "metadata": {},
   "outputs": [],
   "source": [
    "# Close the connection to the database\n",
    "conn.close()\n"
   ]
  }
 ],
 "metadata": {
  "kernelspec": {
   "display_name": "Python 3",
   "language": "python",
   "name": "python3"
  },
  "language_info": {
   "codemirror_mode": {
    "name": "ipython",
    "version": 3
   },
   "file_extension": ".py",
   "mimetype": "text/x-python",
   "name": "python",
   "nbconvert_exporter": "python",
   "pygments_lexer": "ipython3",
   "version": "3.8.10"
  },
  "orig_nbformat": 4
 },
 "nbformat": 4,
 "nbformat_minor": 2
}
