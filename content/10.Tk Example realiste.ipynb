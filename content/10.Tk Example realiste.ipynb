{
 "cells": [
  {
   "attachments": {},
   "cell_type": "markdown",
   "metadata": {},
   "source": [
    "# Un exemple rélaliste de l'utilisation de Tk #"
   ]
  },
  {
   "attachments": {},
   "cell_type": "markdown",
   "metadata": {},
   "source": [
    "Référence : https://tkdocs.com/tutorial/index.html"
   ]
  },
  {
   "attachments": {},
   "cell_type": "markdown",
   "metadata": {},
   "source": [
    "Commençons par dessiner le design de l'application :"
   ]
  },
  {
   "attachments": {},
   "cell_type": "markdown",
   "metadata": {},
   "source": [
    "<img src=\"img/TK_Design.png\" alt=\"TK_Design.png\" />"
   ]
  },
  {
   "attachments": {},
   "cell_type": "markdown",
   "metadata": {},
   "source": [
    "On va utiliser une grille de 3x3 pour disposer les éléments :"
   ]
  },
  {
   "attachments": {},
   "cell_type": "markdown",
   "metadata": {},
   "source": [
    "<img src=\"img/TK Design Layout.png\" alt=\"TK_Design Layout.png\" />"
   ]
  },
  {
   "attachments": {},
   "cell_type": "markdown",
   "metadata": {},
   "source": [
    "Voici le code :"
   ]
  },
  {
   "cell_type": "code",
   "execution_count": 18,
   "metadata": {},
   "outputs": [],
   "source": [
    "from tkinter import *\n",
    "from tkinter import ttk\n",
    "\n",
    "class FeetToMeters:\n",
    "\n",
    "    def __init__(self, root):\n",
    "\n",
    "        root.title(\"Feet to Meters\")\n",
    "\n",
    "        mainframe = ttk.Frame(root, padding=\"3 3 12 12\")\n",
    "        mainframe.grid(column=0, row=0, sticky=(N, W, E, S))\n",
    "        root.columnconfigure(0, weight=1)\n",
    "        root.rowconfigure(0, weight=1)\n",
    "        mainframe.columnconfigure(1, weight=1)\n",
    "        mainframe.rowconfigure(1, weight=1)\n",
    "        mainframe.columnconfigure(2, weight=5)\n",
    "        mainframe.rowconfigure(2, weight=5)\n",
    "        mainframe.columnconfigure(3, weight=1)\n",
    "        mainframe.rowconfigure(3, weight=1)\n",
    "       \n",
    "        self.feet = StringVar()\n",
    "        feet_entry = ttk.Entry(mainframe, width=7, textvariable=self.feet)\n",
    "        feet_entry.grid(column=2, row=1, sticky=(W, E))\n",
    "        self.meters = StringVar()\n",
    "\n",
    "        ttk.Label(mainframe, textvariable=self.meters).grid(column=2, row=2, sticky=(W, E))\n",
    "        ttk.Button(mainframe, text=\"Calculate\", command=self.calculate).grid(column=3, row=3, sticky=W)\n",
    "\n",
    "        ttk.Label(mainframe, text=\"feet\").grid(column=3, row=1, sticky=W)\n",
    "        ttk.Label(mainframe, text=\"is equivalent to\").grid(column=1, row=2, sticky=E)\n",
    "        ttk.Label(mainframe, text=\"meters\").grid(column=3, row=2, sticky=W)\n",
    "\n",
    "        for child in mainframe.winfo_children(): \n",
    "            child.grid_configure(padx=5, pady=5)\n",
    "\n",
    "        feet_entry.focus()\n",
    "        root.bind(\"<Return>\", self.calculate)\n",
    "        \n",
    "    def calculate(self, *args):\n",
    "        try:\n",
    "            value = float(self.feet.get())\n",
    "            self.meters.set(int(0.3048 * value * 10000.0 + 0.5)/10000.0)\n",
    "        except ValueError:\n",
    "            pass\n",
    "\n",
    "root = Tk()\n",
    "FeetToMeters(root)\n",
    "root.mainloop()"
   ]
  }
 ],
 "metadata": {
  "kernelspec": {
   "display_name": "Python 3",
   "language": "python",
   "name": "python3"
  },
  "language_info": {
   "name": "python",
   "version": "3.8.10"
  },
  "orig_nbformat": 4
 },
 "nbformat": 4,
 "nbformat_minor": 2
}
