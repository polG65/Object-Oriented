{
 "cells": [
  {
   "attachments": {},
   "cell_type": "markdown",
   "metadata": {},
   "source": [
    "# Les Enumérations #"
   ]
  },
  {
   "attachments": {},
   "cell_type": "markdown",
   "metadata": {},
   "source": [
    "Les énumérations (ou \"enums\" en anglais) sont un type de données utilisé pour représenter une liste de valeurs nommées. En Python, il existe plusieurs manières de créer des énumérations : l'une d'elles est d'utiliser la bibliothèque standard enum, introduite à partir de la version 3.4. Cette bibliothèque permet de déclarer des énumérations de manière simple et claire, en utilisant la syntaxe suivante :"
   ]
  },
  {
   "cell_type": "code",
   "execution_count": null,
   "metadata": {},
   "outputs": [],
   "source": [
    "from enum import Enum\n",
    "\n",
    "class Day(Enum):\n",
    "     MONDAY = 'Mo'\n",
    "     TUESDAY = 'Tu'\n",
    "     WEDNESDAY = 'We'\n",
    "     THURSDAY = 'Th'\n",
    "     FRIDAY = 'Fr'\n",
    "     SATURDAY = 'Sa'\n",
    "     SUNDAY = 'Su'\n",
    "\n",
    "print(list (Day))"
   ]
  },
  {
   "attachments": {},
   "cell_type": "markdown",
   "metadata": {},
   "source": [
    "Autre syntaxe basée sur le range :"
   ]
  },
  {
   "cell_type": "code",
   "execution_count": null,
   "metadata": {},
   "outputs": [],
   "source": [
    "class Season(Enum):\n",
    "    WINTER, SPRING, SUMMER, FALL = range(1, 5)"
   ]
  },
  {
   "attachments": {},
   "cell_type": "markdown",
   "metadata": {},
   "source": [
    "Même si on utilise la syntaxe de classe pour créer des énumérations, ce sont des classes spéciales qui diffèrent des classes Python normales. \n",
    "\n",
    "Contrairement aux classes régulières, une énumération :\n",
    "\n",
    "- Ne peut pas être instanciée.\n",
    "- Ne peut pas être sous-classée à moins que l'énumération de base n'ait pas de membres.\n",
    "- Fourni une représentation sous forme de chaîne lisible pour leurs membres.\n",
    "- Est itérable, retournant leurs membres dans une séquence.\n",
    "- Fourni des membres hachables pouvant être utilisés comme clés de dictionnaire\n",
    "- Prend en charge la syntaxe entre crochets, la syntaxe d'appel et la notation par points pour accéder aux membres\n",
    "- N'autorise pas les réaffectations de membres"
   ]
  },
  {
   "cell_type": "code",
   "execution_count": null,
   "metadata": {},
   "outputs": [],
   "source": [
    "today = Day.MONDAY\n",
    "\n",
    "print(today)"
   ]
  },
  {
   "cell_type": "code",
   "execution_count": null,
   "metadata": {},
   "outputs": [],
   "source": [
    "for day in Day:\n",
    "    print(day)"
   ]
  },
  {
   "cell_type": "code",
   "execution_count": null,
   "metadata": {},
   "outputs": [],
   "source": [
    "print(f'Dot Notation : {Day.MONDAY}')\n",
    "print(f'Call Notation : {Day(\"Mo\")}')\n",
    "print(f'Square bracket Notation : {Day[\"MONDAY\"]}')"
   ]
  },
  {
   "attachments": {},
   "cell_type": "markdown",
   "metadata": {},
   "source": [
    "Les énumérations n'implémentent pas les opérateurs de comparaison (<, >) et dès lors ne peuvent pas être triées.\n",
    "\n",
    "Il est cependant possible de les trier en utilisant leur attributs name et value qui donnent respectivement le nom et la valeur assignée à un membre"
   ]
  },
  {
   "cell_type": "code",
   "execution_count": null,
   "metadata": {},
   "outputs": [],
   "source": [
    "print(Day.MONDAY.name)\n",
    "print(Day.MONDAY.value)"
   ]
  },
  {
   "attachments": {},
   "cell_type": "markdown",
   "metadata": {},
   "source": [
    "L'example suivant trie les Season par ordre numérique et alphabétique en passant une fonction de tri à la fonction Python sorted. La fonction de tri est passée en paramètre (Key) en utilisant le formalisme des fonctions lambda:\n",
    "\n",
    "https://zestedesavoir.com/tutoriels/2514/un-zeste-de-python/7-perfectionnement/4-fonctions/#5-5-lambdas"
   ]
  },
  {
   "cell_type": "code",
   "execution_count": null,
   "metadata": {},
   "outputs": [],
   "source": [
    "print(f'Sorted by value : {sorted(Season, key=lambda season: season.value)}')\n",
    "print(f'Sorted by name: {sorted(Season, key=lambda season: season.name)}')"
   ]
  },
  {
   "attachments": {},
   "cell_type": "markdown",
   "metadata": {},
   "source": [
    "Quand les valeurs des membres d'une énumération sont des entiers, on peut utiliser l'énumération spécialisée IntEnum"
   ]
  },
  {
   "cell_type": "code",
   "execution_count": null,
   "metadata": {},
   "outputs": [],
   "source": [
    "from enum import IntEnum\n",
    "\n",
    "class Size(IntEnum):\n",
    "    S, M, L, XL = range(1,5)\n",
    "\n",
    "\n",
    "Size.M > Size.L"
   ]
  },
  {
   "attachments": {},
   "cell_type": "markdown",
   "metadata": {},
   "source": [
    "Améliorer l'affichage en redéfinissant la méthode __str__()"
   ]
  },
  {
   "cell_type": "code",
   "execution_count": null,
   "metadata": {},
   "outputs": [],
   "source": [
    "from enum import Enum\n",
    "\n",
    "class Mood(Enum):\n",
    "    FUNKY = 1\n",
    "    MAD = 2\n",
    "    HAPPY = 3\n",
    "\n",
    "    def __str__(self):\n",
    "        return f\"I feel {self.name.lower()}\"\n",
    "\n",
    "print(Mood.HAPPY)"
   ]
  },
  {
   "attachments": {},
   "cell_type": "markdown",
   "metadata": {},
   "source": [
    "Un example plus avancé qui redéfinit la méthode __call__() afin d'implémenter un design pattern strategy.\n",
    "\n",
    "(*Il s'agit juste d'un code de démonstration de l'usage de la redéfinition de __call__(). Dans ce cas-ci, il est plus simple de s'en tenir à l'utilisation de la fonction sorted*)"
   ]
  },
  {
   "cell_type": "code",
   "execution_count": null,
   "metadata": {},
   "outputs": [],
   "source": [
    "from enum import Enum\n",
    "\n",
    "class Sort(Enum):\n",
    "    ASCENDING = 1\n",
    "    DESCENDING = 2\n",
    "\n",
    "    def __call__(self, values):\n",
    "        return sorted(values, reverse=self is Sort.DESCENDING)\n",
    "\n",
    "numbers = [5, 2, 7, 6, 3, 9, 8, 4]\n",
    "\n",
    "print(f'Ascending sort : {Sort.ASCENDING(numbers)}')\n",
    "\n",
    "print(f'Descending sort : {Sort.DESCENDING(numbers)}')"
   ]
  }
 ],
 "metadata": {
  "kernelspec": {
   "display_name": "Python 3",
   "language": "python",
   "name": "python3"
  },
  "language_info": {
   "codemirror_mode": {
    "name": "ipython",
    "version": 3
   },
   "file_extension": ".py",
   "mimetype": "text/x-python",
   "name": "python",
   "nbconvert_exporter": "python",
   "pygments_lexer": "ipython3",
   "version": "3.8.10"
  },
  "orig_nbformat": 4,
  "vscode": {
   "interpreter": {
    "hash": "e7370f93d1d0cde622a1f8e1c04877d8463912d04d973331ad4851f04de6915a"
   }
  }
 },
 "nbformat": 4,
 "nbformat_minor": 2
}
