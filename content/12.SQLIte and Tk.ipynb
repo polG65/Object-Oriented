{
 "cells": [
  {
   "attachments": {},
   "cell_type": "markdown",
   "metadata": {},
   "source": [
    "# SQLite and TK #"
   ]
  },
  {
   "attachments": {},
   "cell_type": "markdown",
   "metadata": {},
   "source": [
    "Montrons maintenant comment intégrer une table SQLite dans un visuel TK."
   ]
  },
  {
   "cell_type": "code",
   "execution_count": 1,
   "metadata": {},
   "outputs": [],
   "source": [
    "import tkinter as tk\n",
    "import sqlite3\n",
    "from tkinter import ttk\n",
    "\n",
    "def create_table():\n",
    "    conn = sqlite3.connect('database.db')\n",
    "    c = conn.cursor()\n",
    "    c.execute('drop table if exists table_name')\n",
    "    c.execute('''CREATE TABLE table_name\n",
    "                 (id INTEGER PRIMARY KEY,\n",
    "                  name TEXT,\n",
    "                  age INTEGER)''')\n",
    "    c.execute(\"INSERT INTO table_name (name, age) VALUES ('John', 25)\")\n",
    "    c.execute(\"INSERT INTO table_name (name, age) VALUES ('Jane', 30)\")\n",
    "    c.execute(\"INSERT INTO table_name (name, age) VALUES ('Bob', 35)\")\n",
    "    conn.commit()\n",
    "    conn.close()\n",
    "\n",
    "def display_data():\n",
    "    conn = sqlite3.connect('database.db')\n",
    "    c = conn.cursor()\n",
    "    c.execute(\"SELECT * FROM table_name\")\n",
    "    rows = c.fetchall()\n",
    "    for id, name, age in rows:\n",
    "        tree.insert(\"\", tk.END, values=(id, name, age))\n",
    "\n",
    "    conn.close()\n",
    "\n",
    "create_table()\n",
    "\n",
    "root = tk.Tk()\n",
    "root.geometry(\"900x300\")\n",
    "\n",
    "tree = ttk.Treeview(root, columns=(\"ID\", \"Name\", \"Age\"), show=\"headings\")\n",
    "tree.heading(\"#1\", text=\"ID\")\n",
    "tree.heading(\"#2\", text=\"Name\")\n",
    "tree.heading(\"#3\", text=\"Age\")\n",
    "tree.pack()\n",
    "\n",
    "button = tk.Button(root, text=\"Display Data\", command=display_data)\n",
    "button.pack()\n",
    "\n",
    "root.mainloop()"
   ]
  }
 ],
 "metadata": {
  "kernelspec": {
   "display_name": "Python 3",
   "language": "python",
   "name": "python3"
  },
  "language_info": {
   "codemirror_mode": {
    "name": "ipython",
    "version": 3
   },
   "file_extension": ".py",
   "mimetype": "text/x-python",
   "name": "python",
   "nbconvert_exporter": "python",
   "pygments_lexer": "ipython3",
   "version": "3.8.10"
  },
  "orig_nbformat": 4
 },
 "nbformat": 4,
 "nbformat_minor": 2
}
