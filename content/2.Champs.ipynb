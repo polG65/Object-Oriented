{
 "cells": [
  {
   "cell_type": "markdown",
   "metadata": {},
   "source": [
    "# Classes et champs #"
   ]
  },
  {
   "cell_type": "markdown",
   "metadata": {},
   "source": [
    "Ajoutons des données, des champs à une classe"
   ]
  },
  {
   "cell_type": "code",
   "execution_count": 1,
   "metadata": {},
   "outputs": [],
   "source": [
    "class User:\n",
    "    \"\"\" Example de champs \n",
    "    __init__ est le constructeur, id, name, password des champs \"\"\"\n",
    "    def __init__(self, id, name, password) -> None :\n",
    "        self.id = id\n",
    "        self.name = name\n",
    "        self.password = password\n",
    "    \n",
    "    def check_pwd(self, password):\n",
    "        return self.password == password"
   ]
  },
  {
   "cell_type": "markdown",
   "metadata": {},
   "source": [
    "Créons deux utilisateurs, pol et an"
   ]
  },
  {
   "cell_type": "code",
   "execution_count": 2,
   "metadata": {},
   "outputs": [
    {
     "name": "stdout",
     "output_type": "stream",
     "text": [
      "True\n",
      "False\n"
     ]
    }
   ],
   "source": [
    "pol = User(1,'pol','123')\n",
    "an = User(2,'an', '456')\n",
    "\n",
    "print(pol.check_pwd(\"123\"))\n",
    "print(an.check_pwd(\"123\"))"
   ]
  },
  {
   "cell_type": "markdown",
   "metadata": {},
   "source": [
    "**Protégeons les data de tout changements intempestif**\n",
    "\n",
    "Pour le module crypt, voir https://docs.python.org/3/library/crypt.html?highlight=crypt#module-crypt\n",
    " "
   ]
  },
  {
   "cell_type": "code",
   "execution_count": 3,
   "metadata": {},
   "outputs": [],
   "source": [
    "import crypt\n",
    "\n",
    "class User:\n",
    "    \"\"\" Example de champs \n",
    "    __init__ est le constructeur, id, name, __salt, __password des champs \"\"\"\n",
    "    def __init__(self, id, name, password) -> None :\n",
    "        self.id = id\n",
    "        self.name = name\n",
    "        self.__salt = crypt.mksalt()\n",
    "        self.__password = self.__crypt_pwd(password)\n",
    "\n",
    "    def __crypt_pwd(self, password):\n",
    "        return crypt.crypt(password, self.__salt)\n",
    "    \n",
    "    def check_pwd(self, password):\n",
    "        return self.__password == self.__crypt_pwd(password)"
   ]
  },
  {
   "cell_type": "code",
   "execution_count": 4,
   "metadata": {},
   "outputs": [
    {
     "data": {
      "text/plain": [
       "True"
      ]
     },
     "execution_count": 4,
     "metadata": {},
     "output_type": "execute_result"
    }
   ],
   "source": [
    "john = User(1, 'john', '12345')\n",
    "john.check_pwd('12345')"
   ]
  },
  {
   "cell_type": "markdown",
   "metadata": {},
   "source": [
    "Exemple, un pseudo-forum :"
   ]
  },
  {
   "cell_type": "code",
   "execution_count": 5,
   "metadata": {},
   "outputs": [
    {
     "name": "stdout",
     "output_type": "stream",
     "text": [
      "<div><span>Par john le 09/01/2023 à 13:39:30</span><p>Salut à tous</p></div>\n"
     ]
    }
   ],
   "source": [
    "import crypt\n",
    "import datetime\n",
    "\n",
    "class User:\n",
    "    def __init__(self, id, name, password):\n",
    "        self.id = id\n",
    "        self.name = name\n",
    "        self.__salt = crypt.mksalt()\n",
    "        self.__password = self.__crypt_pwd(password)\n",
    "\n",
    "    def __crypt_pwd(self, password):\n",
    "        return crypt.crypt(password, self.__salt)\n",
    "\n",
    "    def check_pwd(self, password):\n",
    "        return self.__password == self.__crypt_pwd(password)\n",
    "\n",
    "    def post(self, message):\n",
    "        return Post(self, message)\n",
    "\n",
    "class Post:\n",
    "    def __init__(self, author, message):\n",
    "        self.author = author\n",
    "        self.message = message\n",
    "        self.date = datetime.datetime.now()\n",
    "\n",
    "    def format(self):\n",
    "        date = self.date.strftime('le %d/%m/%Y à %H:%M:%S')\n",
    "        return '<div><span>Par {} {}</span><p>{}</p></div>'.format(self.author.name, date, self.message)\n",
    "\n",
    "if __name__ == '__main__':\n",
    "    user = User(1, 'john', '12345')\n",
    "    p = user.post('Salut à tous')\n",
    "    print(p.format())"
   ]
  },
  {
   "attachments": {},
   "cell_type": "markdown",
   "metadata": {},
   "source": [
    "Si on imprime un objet, ce n'est pas très beau ..."
   ]
  },
  {
   "cell_type": "code",
   "execution_count": 6,
   "metadata": {},
   "outputs": [
    {
     "name": "stdout",
     "output_type": "stream",
     "text": [
      "<__main__.User object at 0x7f046c6d3340>\n"
     ]
    }
   ],
   "source": [
    "pol = User(10, 'pol', '123')\n",
    "print(pol)"
   ]
  },
  {
   "attachments": {},
   "cell_type": "markdown",
   "metadata": {},
   "source": [
    "On peut améliorer cela en surchargeant la méthode interne *__repr__()* pour renvoyer une string décrivant l'objet"
   ]
  },
  {
   "cell_type": "code",
   "execution_count": 9,
   "metadata": {},
   "outputs": [],
   "source": [
    "import crypt\n",
    "import datetime\n",
    "\n",
    "class User:\n",
    "    def __init__(self, id, name, password):\n",
    "        self.id = id\n",
    "        self.name = name\n",
    "        self.__salt = crypt.mksalt()\n",
    "        self.__password = self.__crypt_pwd(password)\n",
    "\n",
    "    def __repr__(self) -> str:\n",
    "        return 'User ' + self.name + ' id ' + str(self.id)\n",
    "\n",
    "    def __crypt_pwd(self, password):\n",
    "        return crypt.crypt(password, self.__salt)\n",
    "\n",
    "    def check_pwd(self, password):\n",
    "        return self.__password == self.__crypt_pwd(password)\n",
    "\n",
    "    def post(self, message):\n",
    "        return Post(self, message)\n"
   ]
  },
  {
   "cell_type": "code",
   "execution_count": 10,
   "metadata": {},
   "outputs": [
    {
     "name": "stdout",
     "output_type": "stream",
     "text": [
      "User pol id 10\n"
     ]
    }
   ],
   "source": [
    "pol = User(10, 'pol', '123')\n",
    "print(pol)"
   ]
  }
 ],
 "metadata": {
  "kernelspec": {
   "display_name": "Python 3.8.10 64-bit",
   "language": "python",
   "name": "python3"
  },
  "language_info": {
   "codemirror_mode": {
    "name": "ipython",
    "version": 3
   },
   "file_extension": ".py",
   "mimetype": "text/x-python",
   "name": "python",
   "nbconvert_exporter": "python",
   "pygments_lexer": "ipython3",
   "version": "3.8.10"
  },
  "orig_nbformat": 4,
  "vscode": {
   "interpreter": {
    "hash": "e7370f93d1d0cde622a1f8e1c04877d8463912d04d973331ad4851f04de6915a"
   }
  }
 },
 "nbformat": 4,
 "nbformat_minor": 2
}
