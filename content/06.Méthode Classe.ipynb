{
 "cells": [
  {
   "attachments": {},
   "cell_type": "markdown",
   "metadata": {},
   "source": [
    "# Méthode et variable de classe en Python #"
   ]
  },
  {
   "attachments": {},
   "cell_type": "markdown",
   "metadata": {},
   "source": [
    "Une variable de classe en Python est une variable qui est définie au niveau de la classe et qui est accessible par tous les objets de cette classe. Elle est généralement utilisée pour stocker des informations qui sont communes à tous les objets de la classe, comme par exemple un compteur d'objets ou une constante.\n",
    "\n",
    "Elle est généralement définie au début de la définition de la classe, avant les méthodes.\n",
    "\n",
    "Voici un exemple de définition d'une variable de classe en Python :\n",
    "\n"
   ]
  },
  {
   "cell_type": "code",
   "execution_count": null,
   "metadata": {},
   "outputs": [],
   "source": [
    "class MaClasse:\n",
    "    classCounter = 0 # variable de classe\n",
    "\n",
    "    def __init__(self, valeur):\n",
    "        self.valeur = valeur #self.valeur est une variable d'instance\n",
    "        MaClasse.classCounter += 1\n",
    "        \n",
    "\n",
    "instance1 = MaClasse(1)\n",
    "print(MaClasse.classCounter)\n",
    "\n",
    "instance2 = MaClasse(2)\n",
    "print(MaClasse.classCounter)\n",
    "\n",
    "\n"
   ]
  },
  {
   "cell_type": "markdown",
   "metadata": {},
   "source": [
    "En Python, une méthode de classe est une fonction définie dans une classe qui prend un argument de type cls en plus des arguments habituels. Cet argument de type cls représente la classe elle-même et peut être utilisé pour accéder aux variables de classe et aux méthodes de classe.\n",
    "\n",
    "Voici un exemple de définition d'une méthode de classe en Python :"
   ]
  },
  {
   "cell_type": "code",
   "execution_count": null,
   "metadata": {},
   "outputs": [],
   "source": [
    "class MaClasse:\n",
    "    classCounter = 0\n",
    "\n",
    "    def __init__(self, valeur):\n",
    "        self.valeur = valeur\n",
    "        MaClasse.classCounter += 1\n",
    "\n",
    "    @classmethod\n",
    "    def setCounter(cls, arg1):\n",
    "        cls.classCounter = arg1\n"
   ]
  },
  {
   "attachments": {},
   "cell_type": "markdown",
   "metadata": {},
   "source": [
    "Pour utiliser cette méthode de classe, vous pouvez appeler directement la méthode sur la classe elle-même, comme ceci :\n",
    "\n"
   ]
  },
  {
   "cell_type": "code",
   "execution_count": null,
   "metadata": {},
   "outputs": [],
   "source": [
    "MaClasse.setCounter(5)\n",
    "MaClasse.classCounter\n"
   ]
  },
  {
   "attachments": {},
   "cell_type": "markdown",
   "metadata": {},
   "source": [
    "Vous pouvez également utiliser l'objet de classe pour appeler la méthode, mais cela n'est généralement pas recommandé car cela peut être confus pour les lecteurs de votre code."
   ]
  },
  {
   "cell_type": "code",
   "execution_count": null,
   "metadata": {},
   "outputs": [],
   "source": [
    "objet = MaClasse(3)\n",
    "objet.setCounter(10)\n"
   ]
  },
  {
   "attachments": {},
   "cell_type": "markdown",
   "metadata": {},
   "source": [
    "Les variables de classes sont communes à toutes les instances de la classe\n",
    "Mais attention , quand la variable est redéfinie dans l’objet, elle sera trouvée en premier, et n’affectera pas la classe."
   ]
  },
  {
   "cell_type": "code",
   "execution_count": null,
   "metadata": {},
   "outputs": [],
   "source": [
    "autre_objet = MaClasse(2)\n",
    "print(autre_objet.classCounter)\n",
    "\n",
    "# pour autre_objet, classCounter est une variable d'instance \n",
    "# nouvellement créée\n",
    "autre_objet.classCounter = 100\n",
    "print(autre_objet.classCounter)\n",
    "\n",
    "print(objet.classCounter)"
   ]
  }
 ],
 "metadata": {
  "kernelspec": {
   "display_name": "Python 3",
   "language": "python",
   "name": "python3"
  },
  "language_info": {
   "codemirror_mode": {
    "name": "ipython",
    "version": 3
   },
   "file_extension": ".py",
   "mimetype": "text/x-python",
   "name": "python",
   "nbconvert_exporter": "python",
   "pygments_lexer": "ipython3",
   "version": "3.8.10 (default, Nov 14 2022, 12:59:47) \n[GCC 9.4.0]"
  },
  "orig_nbformat": 4,
  "vscode": {
   "interpreter": {
    "hash": "e7370f93d1d0cde622a1f8e1c04877d8463912d04d973331ad4851f04de6915a"
   }
  }
 },
 "nbformat": 4,
 "nbformat_minor": 2
}
