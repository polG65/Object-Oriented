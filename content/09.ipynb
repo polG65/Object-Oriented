{
 "cells": [
  {
   "attachments": {},
   "cell_type": "markdown",
   "metadata": {},
   "source": [
    "# Introduction à Tk #"
   ]
  },
  {
   "attachments": {},
   "cell_type": "markdown",
   "metadata": {},
   "source": [
    "Tkinter est la bibliothèque graphique standard de Python pour créer des interfaces utilisateur (GUI) en utilisant le kit d'outils de GUI Tk (ToolKit) développé à l'origine pour le langage de programmation Tcl. Tkinter fournit une interface de programmation orientée objet pour Tk, ce qui facilite la création de fenêtres, de boutons, de champs de texte et d'autres éléments de l'interface utilisateur. En utilisant Tkinter, les développeurs peuvent créer des applications graphiques personnalisées en Python pour une variété de systèmes d'exploitation, notamment Windows, macOS et Linux.\n",
    "\n",
    "Pour utiliser Tkinter, il faut d'abord importer le module dans Python :"
   ]
  },
  {
   "cell_type": "code",
   "execution_count": null,
   "metadata": {},
   "outputs": [],
   "source": [
    "import tkinter as tk"
   ]
  },
  {
   "attachments": {},
   "cell_type": "markdown",
   "metadata": {},
   "source": [
    "Une fois que Tkinter est importé, il est possible de créer une fenêtre principale à l'aide de la classe Tk :"
   ]
  },
  {
   "cell_type": "code",
   "execution_count": null,
   "metadata": {},
   "outputs": [],
   "source": [
    "root = tk.Tk()"
   ]
  },
  {
   "attachments": {},
   "cell_type": "markdown",
   "metadata": {},
   "source": [
    "Cette instruction crée une instance de la classe Tk et l'assigne à la variable root. La fenêtre principale est ensuite personnalisée en ajoutant des éléments de l'interface utilisateur, tels que des boutons, des étiquettes et des champs de texte.\n",
    "\n",
    "Chaque élément de l'interface utilisateur est créé en utilisant une classe Tkinter appropriée, comme Button, Label ou Entry. Par exemple, pour créer un bouton, on utilise la classe Button :"
   ]
  },
  {
   "cell_type": "code",
   "execution_count": null,
   "metadata": {},
   "outputs": [],
   "source": [
    "button = tk.Button(root, text=\"Cliquez ici\")"
   ]
  },
  {
   "attachments": {},
   "cell_type": "markdown",
   "metadata": {},
   "source": [
    "Cette instruction crée une instance de la classe Button et l'assigne à la variable button. Le bouton est ensuite ajouté à la fenêtre principale en utilisant la méthode pack :"
   ]
  },
  {
   "cell_type": "code",
   "execution_count": null,
   "metadata": {},
   "outputs": [],
   "source": [
    "button.pack()"
   ]
  },
  {
   "attachments": {},
   "cell_type": "markdown",
   "metadata": {},
   "source": [
    "Cette méthode place le bouton dans la fenêtre principale en utilisant la méthode de mise en page par défaut de Tkinter.\n",
    "\n",
    "Une fois que tous les éléments de l'interface utilisateur sont créés et personnalisés, il suffit d'appeler la méthode mainloop de la fenêtre principale pour démarrer l'application"
   ]
  },
  {
   "cell_type": "code",
   "execution_count": null,
   "metadata": {},
   "outputs": [],
   "source": [
    "root.mainloop()"
   ]
  },
  {
   "attachments": {},
   "cell_type": "markdown",
   "metadata": {},
   "source": [
    "Cette méthode met l'application en boucle d'événements, ce qui signifie qu'elle attend que l'utilisateur interagisse avec les éléments de l'interface utilisateur avant de passer à la prochaine instruction.\n",
    "\n",
    "En utilisant cette approche orientée objet, les développeurs peuvent créer des applications graphiques personnalisées en Python en utilisant la bibliothèque Tkinter. La classe Tk sert de point de départ pour créer des fenêtres et des éléments d'interface utilisateur, tandis que les méthodes pack et mainloop facilitent la personnalisation et la gestion de l'application."
   ]
  }
 ],
 "metadata": {
  "kernelspec": {
   "display_name": "Python 3",
   "language": "python",
   "name": "python3"
  },
  "language_info": {
   "name": "python",
   "version": "3.8.10"
  },
  "orig_nbformat": 4
 },
 "nbformat": 4,
 "nbformat_minor": 2
}
